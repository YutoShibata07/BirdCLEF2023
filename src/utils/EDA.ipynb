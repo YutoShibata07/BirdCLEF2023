{
 "cells": [
  {
   "cell_type": "code",
   "execution_count": 12,
   "metadata": {},
   "outputs": [
    {
     "name": "stdout",
     "output_type": "stream",
     "text": [
      "(16941, 12)\n"
     ]
    },
    {
     "data": {
      "text/html": [
       "<div>\n",
       "<style scoped>\n",
       "    .dataframe tbody tr th:only-of-type {\n",
       "        vertical-align: middle;\n",
       "    }\n",
       "\n",
       "    .dataframe tbody tr th {\n",
       "        vertical-align: top;\n",
       "    }\n",
       "\n",
       "    .dataframe thead th {\n",
       "        text-align: right;\n",
       "    }\n",
       "</style>\n",
       "<table border=\"1\" class=\"dataframe\">\n",
       "  <thead>\n",
       "    <tr style=\"text-align: right;\">\n",
       "      <th></th>\n",
       "      <th>primary_label</th>\n",
       "      <th>secondary_labels</th>\n",
       "      <th>type</th>\n",
       "      <th>latitude</th>\n",
       "      <th>longitude</th>\n",
       "      <th>scientific_name</th>\n",
       "      <th>common_name</th>\n",
       "      <th>author</th>\n",
       "      <th>license</th>\n",
       "      <th>rating</th>\n",
       "      <th>url</th>\n",
       "      <th>filename</th>\n",
       "    </tr>\n",
       "  </thead>\n",
       "  <tbody>\n",
       "    <tr>\n",
       "      <th>0</th>\n",
       "      <td>abethr1</td>\n",
       "      <td>[]</td>\n",
       "      <td>['song']</td>\n",
       "      <td>4.3906</td>\n",
       "      <td>38.2788</td>\n",
       "      <td>Turdus tephronotus</td>\n",
       "      <td>African Bare-eyed Thrush</td>\n",
       "      <td>Rolf A. de By</td>\n",
       "      <td>Creative Commons Attribution-NonCommercial-Sha...</td>\n",
       "      <td>4.0</td>\n",
       "      <td>https://www.xeno-canto.org/128013</td>\n",
       "      <td>abethr1/XC128013.ogg</td>\n",
       "    </tr>\n",
       "    <tr>\n",
       "      <th>1</th>\n",
       "      <td>abethr1</td>\n",
       "      <td>[]</td>\n",
       "      <td>['call']</td>\n",
       "      <td>-2.9524</td>\n",
       "      <td>38.2921</td>\n",
       "      <td>Turdus tephronotus</td>\n",
       "      <td>African Bare-eyed Thrush</td>\n",
       "      <td>James Bradley</td>\n",
       "      <td>Creative Commons Attribution-NonCommercial-Sha...</td>\n",
       "      <td>3.5</td>\n",
       "      <td>https://www.xeno-canto.org/363501</td>\n",
       "      <td>abethr1/XC363501.ogg</td>\n",
       "    </tr>\n",
       "    <tr>\n",
       "      <th>2</th>\n",
       "      <td>abethr1</td>\n",
       "      <td>[]</td>\n",
       "      <td>['song']</td>\n",
       "      <td>-2.9524</td>\n",
       "      <td>38.2921</td>\n",
       "      <td>Turdus tephronotus</td>\n",
       "      <td>African Bare-eyed Thrush</td>\n",
       "      <td>James Bradley</td>\n",
       "      <td>Creative Commons Attribution-NonCommercial-Sha...</td>\n",
       "      <td>3.5</td>\n",
       "      <td>https://www.xeno-canto.org/363502</td>\n",
       "      <td>abethr1/XC363502.ogg</td>\n",
       "    </tr>\n",
       "    <tr>\n",
       "      <th>3</th>\n",
       "      <td>abethr1</td>\n",
       "      <td>[]</td>\n",
       "      <td>['song']</td>\n",
       "      <td>-2.9524</td>\n",
       "      <td>38.2921</td>\n",
       "      <td>Turdus tephronotus</td>\n",
       "      <td>African Bare-eyed Thrush</td>\n",
       "      <td>James Bradley</td>\n",
       "      <td>Creative Commons Attribution-NonCommercial-Sha...</td>\n",
       "      <td>5.0</td>\n",
       "      <td>https://www.xeno-canto.org/363503</td>\n",
       "      <td>abethr1/XC363503.ogg</td>\n",
       "    </tr>\n",
       "    <tr>\n",
       "      <th>4</th>\n",
       "      <td>abethr1</td>\n",
       "      <td>[]</td>\n",
       "      <td>['call', 'song']</td>\n",
       "      <td>-2.9524</td>\n",
       "      <td>38.2921</td>\n",
       "      <td>Turdus tephronotus</td>\n",
       "      <td>African Bare-eyed Thrush</td>\n",
       "      <td>James Bradley</td>\n",
       "      <td>Creative Commons Attribution-NonCommercial-Sha...</td>\n",
       "      <td>4.5</td>\n",
       "      <td>https://www.xeno-canto.org/363504</td>\n",
       "      <td>abethr1/XC363504.ogg</td>\n",
       "    </tr>\n",
       "  </tbody>\n",
       "</table>\n",
       "</div>"
      ],
      "text/plain": [
       "  primary_label secondary_labels              type  latitude  longitude  \\\n",
       "0       abethr1               []          ['song']    4.3906    38.2788   \n",
       "1       abethr1               []          ['call']   -2.9524    38.2921   \n",
       "2       abethr1               []          ['song']   -2.9524    38.2921   \n",
       "3       abethr1               []          ['song']   -2.9524    38.2921   \n",
       "4       abethr1               []  ['call', 'song']   -2.9524    38.2921   \n",
       "\n",
       "      scientific_name               common_name         author  \\\n",
       "0  Turdus tephronotus  African Bare-eyed Thrush  Rolf A. de By   \n",
       "1  Turdus tephronotus  African Bare-eyed Thrush  James Bradley   \n",
       "2  Turdus tephronotus  African Bare-eyed Thrush  James Bradley   \n",
       "3  Turdus tephronotus  African Bare-eyed Thrush  James Bradley   \n",
       "4  Turdus tephronotus  African Bare-eyed Thrush  James Bradley   \n",
       "\n",
       "                                             license  rating  \\\n",
       "0  Creative Commons Attribution-NonCommercial-Sha...     4.0   \n",
       "1  Creative Commons Attribution-NonCommercial-Sha...     3.5   \n",
       "2  Creative Commons Attribution-NonCommercial-Sha...     3.5   \n",
       "3  Creative Commons Attribution-NonCommercial-Sha...     5.0   \n",
       "4  Creative Commons Attribution-NonCommercial-Sha...     4.5   \n",
       "\n",
       "                                 url              filename  \n",
       "0  https://www.xeno-canto.org/128013  abethr1/XC128013.ogg  \n",
       "1  https://www.xeno-canto.org/363501  abethr1/XC363501.ogg  \n",
       "2  https://www.xeno-canto.org/363502  abethr1/XC363502.ogg  \n",
       "3  https://www.xeno-canto.org/363503  abethr1/XC363503.ogg  \n",
       "4  https://www.xeno-canto.org/363504  abethr1/XC363504.ogg  "
      ]
     },
     "execution_count": 12,
     "metadata": {},
     "output_type": "execute_result"
    }
   ],
   "source": [
    "import numpy as np\n",
    "import matplotlib.pyplot as plt\n",
    "import pandas as pd\n",
    "\n",
    "\n",
    "meta_df = pd.read_csv('/home/ubuntu/slocal/BirdCLEF2023/data/train_metadata.csv')\n",
    "print(meta_df.shape)\n",
    "meta_df.head()"
   ]
  },
  {
   "cell_type": "code",
   "execution_count": 16,
   "metadata": {},
   "outputs": [
    {
     "data": {
      "text/plain": [
       "['abethr1',\n",
       " 'abhori1',\n",
       " 'abythr1',\n",
       " 'afbfly1',\n",
       " 'afdfly1',\n",
       " 'afecuc1',\n",
       " 'affeag1',\n",
       " 'afgfly1',\n",
       " 'afghor1',\n",
       " 'afmdov1',\n",
       " 'afpfly1',\n",
       " 'afpkin1',\n",
       " 'afpwag1',\n",
       " 'afrgos1',\n",
       " 'afrgrp1',\n",
       " 'afrjac1',\n",
       " 'afrthr1',\n",
       " 'amesun2',\n",
       " 'augbuz1',\n",
       " 'bagwea1',\n",
       " 'barswa',\n",
       " 'bawhor2',\n",
       " 'bawman1',\n",
       " 'bcbeat1',\n",
       " 'beasun2',\n",
       " 'bkctch1',\n",
       " 'bkfruw1',\n",
       " 'blacra1',\n",
       " 'blacuc1',\n",
       " 'blakit1',\n",
       " 'blaplo1',\n",
       " 'blbpuf2',\n",
       " 'blcapa2',\n",
       " 'blfbus1',\n",
       " 'blhgon1',\n",
       " 'blhher1',\n",
       " 'blksaw1',\n",
       " 'blnmou1',\n",
       " 'blnwea1',\n",
       " 'bltapa1',\n",
       " 'bltbar1',\n",
       " 'bltori1',\n",
       " 'blwlap1',\n",
       " 'brcale1',\n",
       " 'brcsta1',\n",
       " 'brctch1',\n",
       " 'brcwea1',\n",
       " 'brican1',\n",
       " 'brobab1',\n",
       " 'broman1',\n",
       " 'brosun1',\n",
       " 'brrwhe3',\n",
       " 'brtcha1',\n",
       " 'brubru1',\n",
       " 'brwwar1',\n",
       " 'bswdov1',\n",
       " 'btweye2',\n",
       " 'bubwar2',\n",
       " 'butapa1',\n",
       " 'cabgre1',\n",
       " 'carcha1',\n",
       " 'carwoo1',\n",
       " 'categr',\n",
       " 'ccbeat1',\n",
       " 'chespa1',\n",
       " 'chewea1',\n",
       " 'chibat1',\n",
       " 'chtapa3',\n",
       " 'chucis1',\n",
       " 'cibwar1',\n",
       " 'cohmar1',\n",
       " 'colsun2',\n",
       " 'combul2',\n",
       " 'combuz1',\n",
       " 'comsan',\n",
       " 'crefra2',\n",
       " 'crheag1',\n",
       " 'crohor1',\n",
       " 'darbar1',\n",
       " 'darter3',\n",
       " 'didcuc1',\n",
       " 'dotbar1',\n",
       " 'dutdov1',\n",
       " 'easmog1',\n",
       " 'eaywag1',\n",
       " 'edcsun3',\n",
       " 'egygoo',\n",
       " 'equaka1',\n",
       " 'eswdov1',\n",
       " 'eubeat1',\n",
       " 'fatrav1',\n",
       " 'fatwid1',\n",
       " 'fislov1',\n",
       " 'fotdro5',\n",
       " 'gabgos2',\n",
       " 'gargan',\n",
       " 'gbesta1',\n",
       " 'gnbcam2',\n",
       " 'gnhsun1',\n",
       " 'gobbun1',\n",
       " 'gobsta5',\n",
       " 'gobwea1',\n",
       " 'golher1',\n",
       " 'grbcam1',\n",
       " 'grccra1',\n",
       " 'grecor',\n",
       " 'greegr',\n",
       " 'grewoo2',\n",
       " 'grwpyt1',\n",
       " 'gryapa1',\n",
       " 'grywrw1',\n",
       " 'gybfis1',\n",
       " 'gycwar3',\n",
       " 'gyhbus1',\n",
       " 'gyhkin1',\n",
       " 'gyhneg1',\n",
       " 'gyhspa1',\n",
       " 'gytbar1',\n",
       " 'hadibi1',\n",
       " 'hamerk1',\n",
       " 'hartur1',\n",
       " 'helgui',\n",
       " 'hipbab1',\n",
       " 'hoopoe',\n",
       " 'huncis1',\n",
       " 'hunsun2',\n",
       " 'joygre1',\n",
       " 'kerspa2',\n",
       " 'klacuc1',\n",
       " 'kvbsun1',\n",
       " 'laudov1',\n",
       " 'lawgol',\n",
       " 'lesmaw1',\n",
       " 'lessts1',\n",
       " 'libeat1',\n",
       " 'litegr',\n",
       " 'litswi1',\n",
       " 'litwea1',\n",
       " 'loceag1',\n",
       " 'lotcor1',\n",
       " 'lotlap1',\n",
       " 'luebus1',\n",
       " 'mabeat1',\n",
       " 'macshr1',\n",
       " 'malkin1',\n",
       " 'marsto1',\n",
       " 'marsun2',\n",
       " 'mcptit1',\n",
       " 'meypar1',\n",
       " 'moccha1',\n",
       " 'mouwag1',\n",
       " 'ndcsun2',\n",
       " 'nobfly1',\n",
       " 'norbro1',\n",
       " 'norcro1',\n",
       " 'norfis1',\n",
       " 'norpuf1',\n",
       " 'nubwoo1',\n",
       " 'pabspa1',\n",
       " 'palfly2',\n",
       " 'palpri1',\n",
       " 'piecro1',\n",
       " 'piekin1',\n",
       " 'pitwhy',\n",
       " 'purgre2',\n",
       " 'pygbat1',\n",
       " 'quailf1',\n",
       " 'ratcis1',\n",
       " 'raybar1',\n",
       " 'rbsrob1',\n",
       " 'rebfir2',\n",
       " 'rebhor1',\n",
       " 'reboxp1',\n",
       " 'reccor',\n",
       " 'reccuc1',\n",
       " 'reedov1',\n",
       " 'refbar2',\n",
       " 'refcro1',\n",
       " 'reftin1',\n",
       " 'refwar2',\n",
       " 'rehblu1',\n",
       " 'rehwea1',\n",
       " 'reisee2',\n",
       " 'rerswa1',\n",
       " 'rewsta1',\n",
       " 'rindov',\n",
       " 'rocmar2',\n",
       " 'rostur1',\n",
       " 'ruegls1',\n",
       " 'rufcha2',\n",
       " 'sacibi2',\n",
       " 'sccsun2',\n",
       " 'scrcha1',\n",
       " 'scthon1',\n",
       " 'shesta1',\n",
       " 'sichor1',\n",
       " 'sincis1',\n",
       " 'slbgre1',\n",
       " 'slcbou1',\n",
       " 'sltnig1',\n",
       " 'sobfly1',\n",
       " 'somgre1',\n",
       " 'somtit4',\n",
       " 'soucit1',\n",
       " 'soufis1',\n",
       " 'spemou2',\n",
       " 'spepig1',\n",
       " 'spewea1',\n",
       " 'spfbar1',\n",
       " 'spfwea1',\n",
       " 'spmthr1',\n",
       " 'spwlap1',\n",
       " 'squher1',\n",
       " 'strher',\n",
       " 'strsee1',\n",
       " 'stusta1',\n",
       " 'subbus1',\n",
       " 'supsta1',\n",
       " 'tacsun1',\n",
       " 'tafpri1',\n",
       " 'tamdov1',\n",
       " 'thrnig1',\n",
       " 'trobou1',\n",
       " 'varsun2',\n",
       " 'vibsta2',\n",
       " 'vilwea1',\n",
       " 'vimwea1',\n",
       " 'walsta1',\n",
       " 'wbgbir1',\n",
       " 'wbrcha2',\n",
       " 'wbswea1',\n",
       " 'wfbeat1',\n",
       " 'whbcan1',\n",
       " 'whbcou1',\n",
       " 'whbcro2',\n",
       " 'whbtit5',\n",
       " 'whbwea1',\n",
       " 'whbwhe3',\n",
       " 'whcpri2',\n",
       " 'whctur2',\n",
       " 'wheslf1',\n",
       " 'whhsaw1',\n",
       " 'whihel1',\n",
       " 'whrshr1',\n",
       " 'witswa1',\n",
       " 'wlwwar',\n",
       " 'wookin1',\n",
       " 'woosan',\n",
       " 'wtbeat1',\n",
       " 'yebapa1',\n",
       " 'yebbar1',\n",
       " 'yebduc1',\n",
       " 'yebere1',\n",
       " 'yebgre1',\n",
       " 'yebsto1',\n",
       " 'yeccan1',\n",
       " 'yefcan',\n",
       " 'yelbis1',\n",
       " 'yenspu1',\n",
       " 'yertin1',\n",
       " 'yesbar1',\n",
       " 'yespet1',\n",
       " 'yetgre1',\n",
       " 'yewgre1']"
      ]
     },
     "execution_count": 16,
     "metadata": {},
     "output_type": "execute_result"
    }
   ],
   "source": [
    "ss = pd.read_csv('/home/ubuntu/slocal/BirdCLEF2023/data/sample_submission.csv')\n",
    "list(ss.columns[1:])"
   ]
  },
  {
   "cell_type": "code",
   "execution_count": 8,
   "metadata": {},
   "outputs": [
    {
     "data": {
      "text/plain": [
       "(3, 128, 313)"
      ]
     },
     "execution_count": 8,
     "metadata": {},
     "output_type": "execute_result"
    }
   ],
   "source": [
    "tmp = np.load('/home/ubuntu/slocal/BirdCLEF2023/dataset/logmel/abethr1_XC363501.npy')\n",
    "tmp.shape"
   ]
  },
  {
   "cell_type": "code",
   "execution_count": 9,
   "metadata": {},
   "outputs": [
    {
     "data": {
      "text/plain": [
       "(1, 128, 313)"
      ]
     },
     "execution_count": 9,
     "metadata": {},
     "output_type": "execute_result"
    }
   ],
   "source": [
    "tmp = np.load('/home/ubuntu/slocal/BirdCLEF2023/dataset/logmel/afbfly1_XC530243.npy')\n",
    "tmp.shape"
   ]
  },
  {
   "cell_type": "code",
   "execution_count": 19,
   "metadata": {},
   "outputs": [
    {
     "data": {
      "text/plain": [
       "3478"
      ]
     },
     "execution_count": 19,
     "metadata": {},
     "output_type": "execute_result"
    }
   ],
   "source": [
    "train_files = np.load('/home/ubuntu/slocal/BirdCLEF2023/csv/train_files.npy')\n",
    "len(train_files)"
   ]
  },
  {
   "cell_type": "code",
   "execution_count": 20,
   "metadata": {},
   "outputs": [
    {
     "data": {
      "text/plain": [
       "836"
      ]
     },
     "execution_count": 20,
     "metadata": {},
     "output_type": "execute_result"
    }
   ],
   "source": [
    "\n",
    "train_files = np.load('/home/ubuntu/slocal/BirdCLEF2023/csv/val_files.npy')\n",
    "len(train_files)"
   ]
  },
  {
   "cell_type": "code",
   "execution_count": 12,
   "metadata": {},
   "outputs": [
    {
     "data": {
      "text/plain": [
       "502"
      ]
     },
     "execution_count": 12,
     "metadata": {},
     "output_type": "execute_result"
    }
   ],
   "source": [
    "import glob \n",
    "len(glob.glob('/home/ubuntu/slocal/BirdCLEF2023/dataset_2022/logmel/*/*'))"
   ]
  },
  {
   "cell_type": "code",
   "execution_count": 7,
   "metadata": {},
   "outputs": [
    {
     "data": {
      "text/plain": [
       "(355265,)"
      ]
     },
     "execution_count": 7,
     "metadata": {},
     "output_type": "execute_result"
    }
   ],
   "source": [
    "import soundfile as sf\n",
    "\n",
    "tmp, sr = sf.read('/home/ubuntu/slocal/BirdCLEF2023/data_2022/train_audio/afrsil1/XC125458.ogg')\n",
    "tmp.shape"
   ]
  },
  {
   "cell_type": "code",
   "execution_count": 8,
   "metadata": {},
   "outputs": [
    {
     "data": {
      "text/plain": [
       "11.10203125"
      ]
     },
     "execution_count": 8,
     "metadata": {},
     "output_type": "execute_result"
    }
   ],
   "source": [
    "tmp.shape[0]/sr"
   ]
  },
  {
   "cell_type": "code",
   "execution_count": null,
   "metadata": {},
   "outputs": [],
   "source": []
  }
 ],
 "metadata": {
  "kernelspec": {
   "display_name": "Python 3",
   "language": "python",
   "name": "python3"
  },
  "language_info": {
   "codemirror_mode": {
    "name": "ipython",
    "version": 3
   },
   "file_extension": ".py",
   "mimetype": "text/x-python",
   "name": "python",
   "nbconvert_exporter": "python",
   "pygments_lexer": "ipython3",
   "version": "3.8.8"
  },
  "orig_nbformat": 4
 },
 "nbformat": 4,
 "nbformat_minor": 2
}
