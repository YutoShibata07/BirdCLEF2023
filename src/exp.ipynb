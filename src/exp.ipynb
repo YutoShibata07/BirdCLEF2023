{
 "cells": [
  {
   "cell_type": "code",
   "execution_count": 2,
   "metadata": {},
   "outputs": [
    {
     "name": "stdout",
     "output_type": "stream",
     "text": [
      "exp.ipynb  \u001b[0m\u001b[01;34mlibs\u001b[0m/  \u001b[01;34mscripts\u001b[0m/  train.py  \u001b[01;34mutils\u001b[0m/  \u001b[01;34mwandb\u001b[0m/\n"
     ]
    }
   ],
   "source": [
    "%ls"
   ]
  },
  {
   "cell_type": "code",
   "execution_count": 1,
   "metadata": {},
   "outputs": [
    {
     "name": "stderr",
     "output_type": "stream",
     "text": [
      "/home/hiramatsu/.local/share/virtualenvs/hiramatsu-rFO9iOcb/lib/python3.8/site-packages/torchvision/io/image.py:13: UserWarning: Failed to load image Python extension: libtorch_cuda_cu.so: cannot open shared object file: No such file or directory\n",
      "  warn(f\"Failed to load image Python extension: {e}\")\n"
     ]
    }
   ],
   "source": [
    "import numpy as np\n",
    "import pandas as pd\n",
    "\n",
    "from libs.dataset import BirdClefDataset\n",
    "from libs.models import BirdNet"
   ]
  },
  {
   "cell_type": "code",
   "execution_count": 7,
   "metadata": {},
   "outputs": [
    {
     "data": {
      "text/plain": [
       "'../dataset/logmel/eubeat1/XC337595.npy'"
      ]
     },
     "execution_count": 7,
     "metadata": {},
     "output_type": "execute_result"
    }
   ],
   "source": [
    "train_files = np.load(\"../csv/train_files.npy\")\n",
    "train_files.shape\n",
    "train_files[0]"
   ]
  },
  {
   "cell_type": "code",
   "execution_count": 6,
   "metadata": {},
   "outputs": [
    {
     "data": {
      "text/plain": [
       "(9, 128, 313)"
      ]
     },
     "execution_count": 6,
     "metadata": {},
     "output_type": "execute_result"
    }
   ],
   "source": [
    "train_sample = np.load(\"../dataset/logmel/abethr1/XC128013.npy\")\n",
    "train_sample.shape"
   ]
  },
  {
   "cell_type": "code",
   "execution_count": 15,
   "metadata": {},
   "outputs": [
    {
     "data": {
      "text/plain": [
       "(3284,)"
      ]
     },
     "execution_count": 15,
     "metadata": {},
     "output_type": "execute_result"
    }
   ],
   "source": [
    "val_files = np.load(\"csv/val_files.npy\")\n",
    "val_files.shape"
   ]
  },
  {
   "cell_type": "code",
   "execution_count": 16,
   "metadata": {},
   "outputs": [],
   "source": [
    "ss = pd.read_csv('data/sample_submission.csv')\n",
    "birds = list(ss.columns[1:])\n",
    "bird_label_map = {birds[i]:i for i in range(len(birds))}\n",
    "\n",
    "train_data = BirdClefDataset(files=train_files, transform=None, bird_label_map=bird_label_map, split='train')"
   ]
  },
  {
   "cell_type": "code",
   "execution_count": 5,
   "metadata": {},
   "outputs": [],
   "source": [
    "from torchinfo import summary\n"
   ]
  },
  {
   "cell_type": "code",
   "execution_count": 8,
   "metadata": {},
   "outputs": [
    {
     "data": {
      "text/plain": [
       "====================================================================================================\n",
       "Layer (type:depth-idx)                             Output Shape              Param #\n",
       "====================================================================================================\n",
       "BirdNet                                            [16, 264]                 --\n",
       "├─EfficientNet: 1-1                                [16, 264]                 --\n",
       "│    └─Conv2dSame: 2-1                             [16, 32, 64, 157]         864\n",
       "│    └─BatchNormAct2d: 2-2                         [16, 32, 64, 157]         64\n",
       "│    │    └─Identity: 3-1                          [16, 32, 64, 157]         --\n",
       "│    │    └─SiLU: 3-2                              [16, 32, 64, 157]         --\n",
       "│    └─Sequential: 2-3                             [16, 320, 4, 10]          --\n",
       "│    │    └─Sequential: 3-3                        [16, 16, 64, 157]         1,448\n",
       "│    │    └─Sequential: 3-4                        [16, 24, 32, 79]          16,714\n",
       "│    │    └─Sequential: 3-5                        [16, 40, 16, 40]          46,640\n",
       "│    │    └─Sequential: 3-6                        [16, 80, 8, 20]           242,930\n",
       "│    │    └─Sequential: 3-7                        [16, 112, 8, 20]          543,148\n",
       "│    │    └─Sequential: 3-8                        [16, 192, 4, 10]          2,026,348\n",
       "│    │    └─Sequential: 3-9                        [16, 320, 4, 10]          717,232\n",
       "│    └─Conv2d: 2-4                                 [16, 1280, 4, 10]         409,600\n",
       "│    └─BatchNormAct2d: 2-5                         [16, 1280, 4, 10]         2,560\n",
       "│    │    └─Identity: 3-10                         [16, 1280, 4, 10]         --\n",
       "│    │    └─SiLU: 3-11                             [16, 1280, 4, 10]         --\n",
       "│    └─SelectAdaptivePool2d: 2-6                   [16, 1280]                --\n",
       "│    │    └─AdaptiveAvgPool2d: 3-12                [16, 1280, 1, 1]          --\n",
       "│    │    └─Flatten: 3-13                          [16, 1280]                --\n",
       "│    └─Sequential: 2-7                             [16, 264]                 --\n",
       "│    │    └─Linear: 3-14                           [16, 264]                 338,184\n",
       "====================================================================================================\n",
       "Total params: 4,345,732\n",
       "Trainable params: 4,345,732\n",
       "Non-trainable params: 0\n",
       "Total mult-adds (G): 5.01\n",
       "====================================================================================================\n",
       "Input size (MB): 7.69\n",
       "Forward/backward pass size (MB): 698.57\n",
       "Params size (MB): 17.21\n",
       "Estimated Total Size (MB): 723.47\n",
       "===================================================================================================="
      ]
     },
     "execution_count": 8,
     "metadata": {},
     "output_type": "execute_result"
    }
   ],
   "source": [
    "m = BirdNet()\n",
    "batch_size = 16\n",
    "summary(model=m, input_size=(batch_size, 3, 128, 313))"
   ]
  },
  {
   "cell_type": "code",
   "execution_count": 9,
   "metadata": {},
   "outputs": [
    {
     "data": {
      "text/plain": [
       "1280"
      ]
     },
     "execution_count": 9,
     "metadata": {},
     "output_type": "execute_result"
    }
   ],
   "source": [
    "m.in_features"
   ]
  },
  {
   "cell_type": "code",
   "execution_count": 3,
   "metadata": {},
   "outputs": [],
   "source": [
    "import timm\n",
    "import torch\n",
    "import torch.nn as nn\n",
    "from torchinfo import summary"
   ]
  },
  {
   "cell_type": "code",
   "execution_count": 4,
   "metadata": {},
   "outputs": [],
   "source": [
    "model_name = 'tf_efficientnet_b0_ns'\n",
    "m = timm.create_model(model_name, pretrained=True, num_classes=0)"
   ]
  },
  {
   "cell_type": "code",
   "execution_count": 7,
   "metadata": {},
   "outputs": [
    {
     "data": {
      "text/plain": [
       "===============================================================================================\n",
       "Layer (type:depth-idx)                        Output Shape              Param #\n",
       "===============================================================================================\n",
       "EfficientNet                                  [16, 1280]                --\n",
       "├─Conv2dSame: 1-1                             [16, 32, 64, 157]         864\n",
       "├─BatchNormAct2d: 1-2                         [16, 32, 64, 157]         64\n",
       "│    └─Identity: 2-1                          [16, 32, 64, 157]         --\n",
       "│    └─SiLU: 2-2                              [16, 32, 64, 157]         --\n",
       "├─Sequential: 1-3                             [16, 320, 4, 10]          --\n",
       "│    └─Sequential: 2-3                        [16, 16, 64, 157]         --\n",
       "│    │    └─DepthwiseSeparableConv: 3-1       [16, 16, 64, 157]         1,448\n",
       "│    └─Sequential: 2-4                        [16, 24, 32, 79]          --\n",
       "│    │    └─InvertedResidual: 3-2             [16, 24, 32, 79]          6,004\n",
       "│    │    └─InvertedResidual: 3-3             [16, 24, 32, 79]          10,710\n",
       "│    └─Sequential: 2-5                        [16, 40, 16, 40]          --\n",
       "│    │    └─InvertedResidual: 3-4             [16, 40, 16, 40]          15,350\n",
       "│    │    └─InvertedResidual: 3-5             [16, 40, 16, 40]          31,290\n",
       "│    └─Sequential: 2-6                        [16, 80, 8, 20]           --\n",
       "│    │    └─InvertedResidual: 3-6             [16, 80, 8, 20]           37,130\n",
       "│    │    └─InvertedResidual: 3-7             [16, 80, 8, 20]           102,900\n",
       "│    │    └─InvertedResidual: 3-8             [16, 80, 8, 20]           102,900\n",
       "│    └─Sequential: 2-7                        [16, 112, 8, 20]          --\n",
       "│    │    └─InvertedResidual: 3-9             [16, 112, 8, 20]          126,004\n",
       "│    │    └─InvertedResidual: 3-10            [16, 112, 8, 20]          208,572\n",
       "│    │    └─InvertedResidual: 3-11            [16, 112, 8, 20]          208,572\n",
       "│    └─Sequential: 2-8                        [16, 192, 4, 10]          --\n",
       "│    │    └─InvertedResidual: 3-12            [16, 192, 4, 10]          262,492\n",
       "│    │    └─InvertedResidual: 3-13            [16, 192, 4, 10]          587,952\n",
       "│    │    └─InvertedResidual: 3-14            [16, 192, 4, 10]          587,952\n",
       "│    │    └─InvertedResidual: 3-15            [16, 192, 4, 10]          587,952\n",
       "│    └─Sequential: 2-9                        [16, 320, 4, 10]          --\n",
       "│    │    └─InvertedResidual: 3-16            [16, 320, 4, 10]          717,232\n",
       "├─Conv2d: 1-4                                 [16, 1280, 4, 10]         409,600\n",
       "├─BatchNormAct2d: 1-5                         [16, 1280, 4, 10]         2,560\n",
       "│    └─Identity: 2-10                         [16, 1280, 4, 10]         --\n",
       "│    └─SiLU: 2-11                             [16, 1280, 4, 10]         --\n",
       "├─SelectAdaptivePool2d: 1-6                   [16, 1280]                --\n",
       "│    └─AdaptiveAvgPool2d: 2-12                [16, 1280, 1, 1]          --\n",
       "│    └─Flatten: 2-13                          [16, 1280]                --\n",
       "├─Identity: 1-7                               [16, 1280]                --\n",
       "===============================================================================================\n",
       "Total params: 4,007,548\n",
       "Trainable params: 4,007,548\n",
       "Non-trainable params: 0\n",
       "Total mult-adds (G): 5.01\n",
       "===============================================================================================\n",
       "Input size (MB): 7.69\n",
       "Forward/backward pass size (MB): 698.53\n",
       "Params size (MB): 15.86\n",
       "Estimated Total Size (MB): 722.09\n",
       "==============================================================================================="
      ]
     },
     "execution_count": 7,
     "metadata": {},
     "output_type": "execute_result"
    }
   ],
   "source": [
    "batch_size = 16\n",
    "summary(model=m, input_size=(batch_size, 3, 128, 313))"
   ]
  },
  {
   "cell_type": "code",
   "execution_count": 15,
   "metadata": {},
   "outputs": [
    {
     "data": {
      "text/plain": [
       "==========================================================================================\n",
       "Layer (type:depth-idx)                   Output Shape              Param #\n",
       "==========================================================================================\n",
       "MaxPool                                  [16, 3]                   --\n",
       "├─MaxPool2d: 1-1                         [16, 3, 1, 1]             --\n",
       "==========================================================================================\n",
       "Total params: 0\n",
       "Trainable params: 0\n",
       "Non-trainable params: 0\n",
       "Total mult-adds (M): 0\n",
       "==========================================================================================\n",
       "Input size (MB): 7.69\n",
       "Forward/backward pass size (MB): 0.00\n",
       "Params size (MB): 0.00\n",
       "Estimated Total Size (MB): 7.69\n",
       "=========================================================================================="
      ]
     },
     "execution_count": 15,
     "metadata": {},
     "output_type": "execute_result"
    }
   ],
   "source": [
    "class MaxPool(nn.Module):\n",
    "    def __init__(self, height, width):\n",
    "        super(MaxPool, self).__init__()\n",
    "        #self.pool = nn.MaxPool2d((height, width))\n",
    "        self.pool = nn.MaxPool2d(height)\n",
    "\n",
    "    def forward(self, x):\n",
    "        x = self.pool(x)\n",
    "        x = x.view(x.size(0), -1)\n",
    "        return x\n",
    "\n",
    "maxpool = MaxPool(128)\n",
    "batch_size = 16\n",
    "summary(model=maxpool, input_size=(batch_size, 3, 128, 313))\n"
   ]
  },
  {
   "cell_type": "code",
   "execution_count": 26,
   "metadata": {},
   "outputs": [],
   "source": [
    "class BirdNetwMaxpool(nn.Module):\n",
    "    def __init__(self, model_name:str = 'tf_efficientnet_b0_ns', pretrained:bool = True, output_dim = 264, part_size = 6) -> None:\n",
    "        super().__init__()\n",
    "        self.backbone = timm.create_model(model_name, pretrained=pretrained, num_classes=0)\n",
    "        #print(vars(self.backbone))\n",
    "        self.in_features = self.backbone.num_features\n",
    "\n",
    "        self.part_size = part_size\n",
    "        self.pool = nn.MaxPool1d(part_size)\n",
    "        self.classifier = nn.Linear(self.in_features, output_dim)\n",
    "        \n",
    "    def forward(self, x):\n",
    "        \"\"\"\n",
    "        Returns tensor (bs, num_classes)\n",
    "\n",
    "        Argument:\n",
    "        x - tensor (bs, part_size, time_segment, freq)\n",
    "        \"\"\"\n",
    "        \n",
    "        x = x.view((x.shape[0]*x.shape[1], x.shape[2], x.shape[3], x.shape[4])) #(bs, part_size, 9, time_segment, freq)→(bs*part_size, time_segment, freq)\n",
    "        x = self.backbone(x) #(bs*part_size, time_segment, freq)→(bs*part_size, in_features)\n",
    "        x = x.view((-1, self.in_features, self.part_size)) #(bs*part_size, in_features) → (bs, in_features, part_size)\n",
    "        x = self.pool(x) #(bs, in_features, part_size) → (bs, in_features, 1)\n",
    "        x = x.view(x.shape[0], -1) #(bs, in_features, 1) → (bs, in_features)\n",
    "        clipwise_logits = self.classifier(x) #(bs, in_features) → (bs, out_size)\n",
    "\n",
    "        output_dict = {\n",
    "            \"logit\": clipwise_logits, # (batch_size, out_dim)\n",
    "            'clipwise_output': nn.Softmax(dim = -1)(clipwise_logits)\n",
    "        }\n",
    "        return output_dict"
   ]
  },
  {
   "cell_type": "code",
   "execution_count": 27,
   "metadata": {},
   "outputs": [
    {
     "name": "stdout",
     "output_type": "stream",
     "text": [
      "torch.Size([96, 3, 128, 313])\n",
      "torch.Size([96, 1280])\n",
      "torch.Size([16, 1280, 6])\n",
      "torch.Size([16, 1280, 1])\n"
     ]
    },
    {
     "data": {
      "text/plain": [
       "torch.Size([16, 264])"
      ]
     },
     "execution_count": 27,
     "metadata": {},
     "output_type": "execute_result"
    }
   ],
   "source": [
    "model = BirdNetwMaxpool()\n",
    "\n",
    "batch_size = 16\n",
    "part_size = 6\n",
    "inputs = torch.ones((batch_size, part_size, 3, 128, 313))\n",
    "\n",
    "output_dict = model(inputs)\n",
    "output_dict['logit'].shape"
   ]
  },
  {
   "cell_type": "code",
   "execution_count": null,
   "metadata": {},
   "outputs": [],
   "source": [
    "maxpool = MaxPool(128)\n",
    "batch_size = 16\n",
    "summary(model=maxpool, input_size=(batch_size, 3, 128, 313))"
   ]
  },
  {
   "cell_type": "code",
   "execution_count": 2,
   "metadata": {},
   "outputs": [],
   "source": [
    "from libs.models.BirdNet_SED import *"
   ]
  },
  {
   "cell_type": "code",
   "execution_count": 7,
   "metadata": {},
   "outputs": [],
   "source": [
    "class BirdNet_SED_(nn.Module):\n",
    "    def __init__(self, model_name:str = 'tf_efficientnet_b0_ns', pretrained:bool = True, output_dim = 264) -> None:\n",
    "        super().__init__()\n",
    "        self.backbone = timm.create_model(model_name, pretrained=pretrained)\n",
    "        self.in_features = self.backbone.classifier.in_features\n",
    "        self.backbone.classifier = nn.Sequential(\n",
    "            nn.Linear(self.in_features, output_dim)\n",
    "        )\n",
    "        \n",
    "        self.bn0 = nn.BatchNorm2d(128)\n",
    "\n",
    "        layers = list(self.backbone.children())[:-2]\n",
    "        self.encoder = nn.Sequential(*layers)\n",
    "\n",
    "        self.fc1 = nn.Linear(self.in_features, self.in_features, bias=True)\n",
    "        self.att_block = AttBlockV2(\n",
    "            self.in_features, output_dim, activation=\"sigmoid\")\n",
    "        # Spec augmenter\n",
    "        self.spec_augmenter = SpecAugmentation(time_drop_width=2, time_stripes_num=2,\n",
    "                                               freq_drop_width=2, freq_stripes_num=2)        \n",
    "        self.init_weight()\n",
    "        \n",
    "    def init_weight(self):\n",
    "        init_layer(self.fc1)\n",
    "        init_bn(self.bn0)\n",
    "        \n",
    "    def forward(self, x):\n",
    "        # (batch_size, 3, mel_bins, time_steps)\n",
    "        frames_num = x.shape[3]\n",
    "\n",
    "        # if self.training:\n",
    "        #     x = self.spec_augmenter(x)\n",
    "        \n",
    "        # (batch_size, channels, freq, frames)\n",
    "        x = self.encoder(x)\n",
    "\n",
    "        x = torch.mean(x, dim=2) # (batch_size, channels, frames)\n",
    "\n",
    "        # channel smoothing\n",
    "        x1 = F.max_pool1d(x, kernel_size=3, stride=1, padding=1)\n",
    "        x2 = F.avg_pool1d(x, kernel_size=3, stride=1, padding=1)\n",
    "        x = x1 + x2\n",
    "\n",
    "        x = F.dropout(x, p=0.5, training=self.training)\n",
    "        x = x.transpose(1, 2)\n",
    "        x = F.relu_(self.fc1(x))\n",
    "        x = x.transpose(1, 2)\n",
    "        x = F.dropout(x, p=0.5, training=self.training)\n",
    "        print(x.shape)\n",
    "        (clipwise_output, norm_att, segmentwise_output) = self.att_block(x)\n",
    "        print(norm_att.shape)\n",
    "        \n",
    "        logit = torch.sum(norm_att * self.att_block.cla(x), dim=2)\n",
    "        segmentwise_logit = self.att_block.cla(x).transpose(1, 2)\n",
    "        segmentwise_output = segmentwise_output.transpose(1, 2)\n",
    "        \n",
    "        interpolate_ratio = frames_num // segmentwise_output.size(1)\n",
    "\n",
    "        # Get framewise output\n",
    "        framewise_output = interpolate(segmentwise_output,\n",
    "                                       interpolate_ratio)\n",
    "        framewise_output = pad_framewise_output(framewise_output, frames_num)\n",
    "\n",
    "        framewise_logit = interpolate(segmentwise_logit, interpolate_ratio)\n",
    "        framewise_logit = pad_framewise_output(framewise_logit, frames_num)\n",
    "\n",
    "        output_dict = {\n",
    "            \"framewise_output\": framewise_output, # (batch_size, time_steps, out_dim)\n",
    "            \"segmentwise_output\": segmentwise_output, # (batch_size, 4 よくわからん, out_dim])\n",
    "            \"logit\": logit, # (batch_size, out_dim)\n",
    "            \"framewise_logit\": framewise_logit, # (batch_size, time_steps, out_dim)\n",
    "            \"clipwise_output\": clipwise_output # (batch_size, out_dim)\n",
    "        }\n",
    "\n",
    "        return output_dict"
   ]
  },
  {
   "cell_type": "code",
   "execution_count": 8,
   "metadata": {},
   "outputs": [
    {
     "name": "stdout",
     "output_type": "stream",
     "text": [
      "torch.Size([16, 1280, 10])\n",
      "torch.Size([16, 264, 10])\n"
     ]
    }
   ],
   "source": [
    "m = BirdNet_SED_()\n",
    "inputs = torch.rand(16, 3, 128, 313)\n",
    "outputs = m(inputs)"
   ]
  },
  {
   "cell_type": "code",
   "execution_count": 3,
   "metadata": {},
   "outputs": [],
   "source": [
    "from libs.models.BirdNet_taxonomy import BirdNet_taxonomy\n",
    "import torch"
   ]
  },
  {
   "cell_type": "code",
   "execution_count": 5,
   "metadata": {},
   "outputs": [],
   "source": [
    "model = BirdNet_taxonomy()\n",
    "\n",
    "inputs = torch.rand(16, 3, 128, 313)\n",
    "outputs = model(inputs)"
   ]
  },
  {
   "cell_type": "code",
   "execution_count": 8,
   "metadata": {},
   "outputs": [
    {
     "data": {
      "text/plain": [
       "tensor([[[0.0155, 0.5371, 0.0241,  ..., 0.5942, 0.9891, 0.9583],\n",
       "         [0.0155, 0.5371, 0.0241,  ..., 0.5942, 0.9891, 0.9583],\n",
       "         [0.0155, 0.5371, 0.0241,  ..., 0.5942, 0.9891, 0.9583],\n",
       "         ...,\n",
       "         [0.1822, 0.3524, 0.2304,  ..., 0.4277, 0.4316, 0.4074],\n",
       "         [0.1822, 0.3524, 0.2304,  ..., 0.4277, 0.4316, 0.4074],\n",
       "         [0.1822, 0.3524, 0.2304,  ..., 0.4277, 0.4316, 0.4074]],\n",
       "\n",
       "        [[0.5116, 0.9691, 0.7613,  ..., 0.3462, 0.8400, 0.9572],\n",
       "         [0.5116, 0.9691, 0.7613,  ..., 0.3462, 0.8400, 0.9572],\n",
       "         [0.5116, 0.9691, 0.7613,  ..., 0.3462, 0.8400, 0.9572],\n",
       "         ...,\n",
       "         [0.3667, 0.2811, 0.7408,  ..., 0.6989, 0.8033, 0.6708],\n",
       "         [0.3667, 0.2811, 0.7408,  ..., 0.6989, 0.8033, 0.6708],\n",
       "         [0.3667, 0.2811, 0.7408,  ..., 0.6989, 0.8033, 0.6708]],\n",
       "\n",
       "        [[0.1613, 0.5800, 0.2354,  ..., 0.8117, 0.8698, 0.2846],\n",
       "         [0.1613, 0.5800, 0.2354,  ..., 0.8117, 0.8698, 0.2846],\n",
       "         [0.1613, 0.5800, 0.2354,  ..., 0.8117, 0.8698, 0.2846],\n",
       "         ...,\n",
       "         [0.2877, 0.5693, 0.1010,  ..., 0.7497, 0.0483, 0.3458],\n",
       "         [0.2877, 0.5693, 0.1010,  ..., 0.7497, 0.0483, 0.3458],\n",
       "         [0.2877, 0.5693, 0.1010,  ..., 0.7497, 0.0483, 0.3458]],\n",
       "\n",
       "        ...,\n",
       "\n",
       "        [[0.0073, 0.6355, 0.4253,  ..., 0.0041, 0.9882, 0.4102],\n",
       "         [0.0073, 0.6355, 0.4253,  ..., 0.0041, 0.9882, 0.4102],\n",
       "         [0.0073, 0.6355, 0.4253,  ..., 0.0041, 0.9882, 0.4102],\n",
       "         ...,\n",
       "         [0.7158, 0.2918, 0.4808,  ..., 0.1592, 0.1681, 0.7756],\n",
       "         [0.7158, 0.2918, 0.4808,  ..., 0.1592, 0.1681, 0.7756],\n",
       "         [0.7158, 0.2918, 0.4808,  ..., 0.1592, 0.1681, 0.7756]],\n",
       "\n",
       "        [[0.5701, 0.2289, 0.1383,  ..., 0.0050, 0.0114, 0.1687],\n",
       "         [0.5701, 0.2289, 0.1383,  ..., 0.0050, 0.0114, 0.1687],\n",
       "         [0.5701, 0.2289, 0.1383,  ..., 0.0050, 0.0114, 0.1687],\n",
       "         ...,\n",
       "         [0.1081, 0.0241, 0.4958,  ..., 0.5514, 0.1235, 0.8356],\n",
       "         [0.1081, 0.0241, 0.4958,  ..., 0.5514, 0.1235, 0.8356],\n",
       "         [0.1081, 0.0241, 0.4958,  ..., 0.5514, 0.1235, 0.8356]],\n",
       "\n",
       "        [[0.0498, 0.0677, 0.2732,  ..., 0.8382, 0.7234, 0.2018],\n",
       "         [0.0498, 0.0677, 0.2732,  ..., 0.8382, 0.7234, 0.2018],\n",
       "         [0.0498, 0.0677, 0.2732,  ..., 0.8382, 0.7234, 0.2018],\n",
       "         ...,\n",
       "         [0.3479, 0.7966, 0.2760,  ..., 0.1730, 0.8262, 0.7196],\n",
       "         [0.3479, 0.7966, 0.2760,  ..., 0.1730, 0.8262, 0.7196],\n",
       "         [0.3479, 0.7966, 0.2760,  ..., 0.1730, 0.8262, 0.7196]]],\n",
       "       grad_fn=<SqueezeBackward1>)"
      ]
     },
     "execution_count": 8,
     "metadata": {},
     "output_type": "execute_result"
    }
   ],
   "source": [
    "s_out = outputs['species']\n",
    "s_out['framewise_output']"
   ]
  },
  {
   "cell_type": "code",
   "execution_count": null,
   "metadata": {},
   "outputs": [],
   "source": []
  }
 ],
 "metadata": {
  "kernelspec": {
   "display_name": "hiramatsu-rFO9iOcb",
   "language": "python",
   "name": "python3"
  },
  "language_info": {
   "codemirror_mode": {
    "name": "ipython",
    "version": 3
   },
   "file_extension": ".py",
   "mimetype": "text/x-python",
   "name": "python",
   "nbconvert_exporter": "python",
   "pygments_lexer": "ipython3",
   "version": "3.8.10"
  },
  "orig_nbformat": 4,
  "vscode": {
   "interpreter": {
    "hash": "3bd4e5bf70b72972b3374ee2831b1c4e6a7e91cf0666a4db052ed969f9ec1f29"
   }
  }
 },
 "nbformat": 4,
 "nbformat_minor": 2
}
